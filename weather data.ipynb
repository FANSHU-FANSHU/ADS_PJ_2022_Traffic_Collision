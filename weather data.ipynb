{
 "cells": [
  {
   "cell_type": "code",
   "execution_count": 44,
   "id": "d14ea8ae",
   "metadata": {},
   "outputs": [],
   "source": [
    "import pandas as pd\n",
    "import numpy as np\n",
    "import statsmodels.formula.api as smf\n",
    "import matplotlib.pylab as plt\n",
    "import math\n",
    "import os \n",
    "import seaborn as sns #for styling the plots\n",
    "import warnings\n",
    "import urllib.request\n",
    "%matplotlib inline\n",
    "from scipy import stats\n",
    "import geopandas as gpd\n",
    "import urllib\n",
    "import sys\n",
    "import warnings\n",
    "warnings.filterwarnings('ignore')\n",
    "import matplotlib.cm as cm\n",
    "import sklearn"
   ]
  },
  {
   "cell_type": "code",
   "execution_count": 45,
   "id": "aa30c47f",
   "metadata": {},
   "outputs": [],
   "source": [
    "df1=pd.read_csv(\"weather data.csv\");df1.fillna(0,inplace=True)"
   ]
  },
  {
   "cell_type": "code",
   "execution_count": 46,
   "id": "c7fdf1a8",
   "metadata": {},
   "outputs": [
    {
     "data": {
      "text/plain": [
       "Index(['STATION', 'NAME', 'LATITUDE', 'LONGITUDE', 'ELEVATION', 'DATE', 'AWND',\n",
       "       'AWND_ATTRIBUTES', 'PGTM', 'PGTM_ATTRIBUTES', 'PRCP', 'PRCP_ATTRIBUTES',\n",
       "       'SNOW', 'SNOW_ATTRIBUTES', 'SNWD', 'SNWD_ATTRIBUTES', 'TAVG',\n",
       "       'TAVG_ATTRIBUTES', 'TMAX', 'TMAX_ATTRIBUTES', 'TMIN', 'TMIN_ATTRIBUTES',\n",
       "       'TSUN', 'TSUN_ATTRIBUTES', 'WDF2', 'WDF2_ATTRIBUTES', 'WDF5',\n",
       "       'WDF5_ATTRIBUTES', 'WSF2', 'WSF2_ATTRIBUTES', 'WSF5', 'WSF5_ATTRIBUTES',\n",
       "       'WT01', 'WT01_ATTRIBUTES', 'WT02', 'WT02_ATTRIBUTES', 'WT03',\n",
       "       'WT03_ATTRIBUTES', 'WT04', 'WT04_ATTRIBUTES', 'WT05', 'WT05_ATTRIBUTES',\n",
       "       'WT06', 'WT06_ATTRIBUTES', 'WT08', 'WT08_ATTRIBUTES'],\n",
       "      dtype='object')"
      ]
     },
     "execution_count": 46,
     "metadata": {},
     "output_type": "execute_result"
    }
   ],
   "source": [
    "df1.columns"
   ]
  },
  {
   "cell_type": "code",
   "execution_count": 47,
   "id": "37ae21d4",
   "metadata": {},
   "outputs": [],
   "source": [
    "df = df1 [['DATE', 'AWND', 'PRCP','SNOW', 'SNWD', 'TMAX', 'TMIN', 'WSF2', 'WSF5', 'WT01', 'WT02', 'WT03', 'WT04', 'WT05', 'WT06', 'WT08']]"
   ]
  },
  {
   "cell_type": "code",
   "execution_count": 48,
   "id": "a68b0272",
   "metadata": {},
   "outputs": [],
   "source": [
    "df['DATE'] = pd.to_datetime(df['DATE'])\n",
    "df['Date'] = df['DATE'].dt.date\n",
    "df['Month'] = df['DATE'].dt.month\n",
    "df['Year'] = df['DATE'].dt.year\n",
    "df['DOW'] = df['DATE'].dt.dayofweek\n",
    "df['day'] = df['DATE'].dt.dayofyear"
   ]
  },
  {
   "cell_type": "markdown",
   "id": "06411787",
   "metadata": {},
   "source": [
    "AWND = Average daily wind speed (meters per second or miles per hour as per user preference)\n",
    "\n",
    "PRCP = Precipitation (mm or inches as per user preference, inches to hundredths on Daily Form pdf file)\n",
    "\n",
    "SNOW = Snowfall (mm or inches as per user preference, inches to tenths on Daily Form pdf file)\n",
    "\n",
    "SNWD = Snow depth (mm or inches as per user preference, inches on Daily Form pdf file)\n",
    "\n",
    "TMAX = Maximum temperature (Fahrenheit or Celsius as per user preference, Fahrenheit to tenths on Daily Form pdf file\n",
    "\n",
    "TMIN = Minimum temperature (Fahrenheit or Celsius as per user preference, Fahrenheit to tenths on Daily Form pdf file\n",
    "\n",
    "WSF2 = Fastest 2-minute wind speed (miles per hour or meters per second as per user preference)\n",
    "\n",
    "WSF5 = Fastest 5-second wind speed (miles per hour or meters per second as per user preference)\n",
    "\n",
    "WT** = Weather Type where ** has one of the following values:\n",
    "\n",
    "01 = Fog, ice fog, or freezing fog (may include heavy fog)\n",
    "\n",
    "02 = Heavy fog or heaving freezing fog (not always distinguished from fog)\n",
    "\n",
    "03 = Thunder\n",
    "\n",
    "04 = Ice pellets, sleet, snow pellets, or small hail\n",
    "\n",
    "05 = Hail (may include small hail)\n",
    "\n",
    "06 = Glaze or rime\n",
    "\n",
    "07 = Dust, volcanic ash, blowing dust, blowing sand, or blowing obstruction\n",
    "\n",
    "08 = Smoke or haze"
   ]
  },
  {
   "cell_type": "code",
   "execution_count": null,
   "id": "c775f582",
   "metadata": {},
   "outputs": [],
   "source": []
  }
 ],
 "metadata": {
  "kernelspec": {
   "display_name": "Python 3 (ipykernel)",
   "language": "python",
   "name": "python3"
  },
  "language_info": {
   "codemirror_mode": {
    "name": "ipython",
    "version": 3
   },
   "file_extension": ".py",
   "mimetype": "text/x-python",
   "name": "python",
   "nbconvert_exporter": "python",
   "pygments_lexer": "ipython3",
   "version": "3.9.7"
  }
 },
 "nbformat": 4,
 "nbformat_minor": 5
}
